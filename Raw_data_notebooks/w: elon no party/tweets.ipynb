{
 "cells": [
  {
   "cell_type": "code",
   "execution_count": 29,
   "metadata": {},
   "outputs": [],
   "source": [
    "import pandas as pd #tablas https://pandas.pydata.org/docs/user_guide/pyarrow.html\n",
    "import numpy as np #estadistica https://numpy.org/doc/1.25/user/index.html#user\n",
    "import matplotlib.pyplot as plt #gráficos https://matplotlib.org/stable/plot_types/index.html\n",
    "import seaborn as sns #gráficos https://seaborn.pydata.org/tutorial/regression.html\n",
    "from sklearn import linear_model #modelo de regresion https://scikit-learn.org/stable/\n",
    "from sklearn.preprocessing import MinMaxScaler # do not use the function Normalise() - it does something entirely different\n",
    "from sklearn.preprocessing import StandardScaler\n",
    "from sklearn.preprocessing import OneHotEncoder\n",
    "from sklearn.preprocessing import LabelEncoder\n",
    "from sklearn.model_selection import train_test_split\n",
    "from sklearn.metrics import r2_score\n",
    "from sklearn.metrics import mean_absolute_error\n",
    "from datetime import datetime #https://docs.python.org/3/library/datetime.html\n",
    "from datetime import timedelta #this is a good time to learn about dates and timestamps. You can find some info here:\n",
    "from sklearn.linear_model import LogisticRegression\n",
    "from sklearn.utils import resample\n",
    "from imblearn.over_sampling import SMOTE\n",
    "from sklearn.metrics import confusion_matrix\n",
    "from sklearn.metrics import precision_score\n",
    "from sklearn.metrics import recall_score\n",
    "from sklearn.metrics import f1_score\n",
    "from sklearn.neighbors import KNeighborsClassifier\n",
    "from scipy.stats import ttest_1samp\n",
    "import scipy.stats as st\n",
    "from sklearn.neighbors import KNeighborsClassifier\n",
    "from mlxtend.plotting import plot_decision_regions"
   ]
  },
  {
   "cell_type": "markdown",
   "metadata": {},
   "source": [
    "# OPTION 1: LET'S TRY TO AVOID TWITTER API (100$ A MONTH OR ONLY 1.500 TWEETS) #HACKINGMUSK"
   ]
  },
  {
   "cell_type": "markdown",
   "metadata": {},
   "source": [
    "https://aitechtrend.com/how-to-scrape-twitter-data-without-using-twitters-api/\n",
    "\n",
    "\n",
    "https://www.youtube.com/watch?v=mXJb-h9skDM&ab_channel=TylerGermain\n",
    "\n",
    "https://github.com/twintproject/twint"
   ]
  },
  {
   "cell_type": "code",
   "execution_count": 30,
   "metadata": {},
   "outputs": [],
   "source": [
    "#!pip3 install twint"
   ]
  },
  {
   "cell_type": "code",
   "execution_count": 31,
   "metadata": {},
   "outputs": [],
   "source": [
    "import twint"
   ]
  },
  {
   "cell_type": "markdown",
   "metadata": {},
   "source": [
    "AFTER 3 HOURS REALISED ELON MUSK BLOCKED TWINT, LET'S GO FOR SNS SCRAPPER \n",
    "https://github.com/JustAnotherArchivist/snscrape/blob/master/README.md"
   ]
  },
  {
   "cell_type": "markdown",
   "metadata": {},
   "source": [
    "https://medium.com/learning-about-data-mining/python-scraping-twitter-data-using-snscrape-in-python-774ff1dca225"
   ]
  },
  {
   "cell_type": "code",
   "execution_count": 32,
   "metadata": {},
   "outputs": [],
   "source": [
    "import nest_asyncio\n",
    "nest_asyncio.apply()"
   ]
  },
  {
   "cell_type": "code",
   "execution_count": 33,
   "metadata": {},
   "outputs": [],
   "source": [
    "import snscrape.modules.twitter as sntwitter"
   ]
  },
  {
   "cell_type": "code",
   "execution_count": 34,
   "metadata": {},
   "outputs": [
    {
     "ename": "KeyboardInterrupt",
     "evalue": "",
     "output_type": "error",
     "traceback": [
      "\u001b[0;31m---------------------------------------------------------------------------\u001b[0m",
      "\u001b[0;31mKeyboardInterrupt\u001b[0m                         Traceback (most recent call last)",
      "Cell \u001b[0;32mIn[34], line 4\u001b[0m\n\u001b[1;32m      2\u001b[0m Tweets_dfsept \u001b[39m=\u001b[39m []\n\u001b[1;32m      3\u001b[0m \u001b[39m# Using TwitterSearchScraper to scrape data and append tweets\u001b[39;00m\n\u001b[0;32m----> 4\u001b[0m \u001b[39mfor\u001b[39;00m i,tweetsept \u001b[39min\u001b[39;00m \u001b[39menumerate\u001b[39m(sntwitter\u001b[39m.\u001b[39mTwitterSearchScraper(\u001b[39m'\u001b[39m\u001b[39melonmusk since:2022-09-01 until:2022-09-30\u001b[39m\u001b[39m'\u001b[39m)\u001b[39m.\u001b[39mget_items()):\n\u001b[1;32m      5\u001b[0m     \u001b[39mif\u001b[39;00m i\u001b[39m>\u001b[39m\u001b[39m100\u001b[39m:\n\u001b[1;32m      6\u001b[0m         \u001b[39mbreak\u001b[39;00m\n",
      "File \u001b[0;32m~/anaconda3/lib/python3.11/site-packages/snscrape/modules/twitter.py:1763\u001b[0m, in \u001b[0;36mTwitterSearchScraper.get_items\u001b[0;34m(self)\u001b[0m\n\u001b[1;32m   1760\u001b[0m params \u001b[39m=\u001b[39m {\u001b[39m'\u001b[39m\u001b[39mvariables\u001b[39m\u001b[39m'\u001b[39m: variables, \u001b[39m'\u001b[39m\u001b[39mfeatures\u001b[39m\u001b[39m'\u001b[39m: features}\n\u001b[1;32m   1761\u001b[0m paginationParams \u001b[39m=\u001b[39m {\u001b[39m'\u001b[39m\u001b[39mvariables\u001b[39m\u001b[39m'\u001b[39m: paginationVariables, \u001b[39m'\u001b[39m\u001b[39mfeatures\u001b[39m\u001b[39m'\u001b[39m: features}\n\u001b[0;32m-> 1763\u001b[0m \u001b[39mfor\u001b[39;00m obj \u001b[39min\u001b[39;00m \u001b[39mself\u001b[39m\u001b[39m.\u001b[39m_iter_api_data(\u001b[39m'\u001b[39m\u001b[39mhttps://twitter.com/i/api/graphql/7jT5GT59P8IFjgxwqnEdQw/SearchTimeline\u001b[39m\u001b[39m'\u001b[39m, _TwitterAPIType\u001b[39m.\u001b[39mGRAPHQL, params, paginationParams, cursor \u001b[39m=\u001b[39m \u001b[39mself\u001b[39m\u001b[39m.\u001b[39m_cursor, instructionsPath \u001b[39m=\u001b[39m [\u001b[39m'\u001b[39m\u001b[39mdata\u001b[39m\u001b[39m'\u001b[39m, \u001b[39m'\u001b[39m\u001b[39msearch_by_raw_query\u001b[39m\u001b[39m'\u001b[39m, \u001b[39m'\u001b[39m\u001b[39msearch_timeline\u001b[39m\u001b[39m'\u001b[39m, \u001b[39m'\u001b[39m\u001b[39mtimeline\u001b[39m\u001b[39m'\u001b[39m, \u001b[39m'\u001b[39m\u001b[39minstructions\u001b[39m\u001b[39m'\u001b[39m]):\n\u001b[1;32m   1764\u001b[0m \t\u001b[39myield from\u001b[39;00m \u001b[39mself\u001b[39m\u001b[39m.\u001b[39m_graphql_timeline_instructions_to_tweets(obj[\u001b[39m'\u001b[39m\u001b[39mdata\u001b[39m\u001b[39m'\u001b[39m][\u001b[39m'\u001b[39m\u001b[39msearch_by_raw_query\u001b[39m\u001b[39m'\u001b[39m][\u001b[39m'\u001b[39m\u001b[39msearch_timeline\u001b[39m\u001b[39m'\u001b[39m][\u001b[39m'\u001b[39m\u001b[39mtimeline\u001b[39m\u001b[39m'\u001b[39m][\u001b[39m'\u001b[39m\u001b[39minstructions\u001b[39m\u001b[39m'\u001b[39m])\n",
      "File \u001b[0;32m~/anaconda3/lib/python3.11/site-packages/snscrape/modules/twitter.py:915\u001b[0m, in \u001b[0;36m_TwitterAPIScraper._iter_api_data\u001b[0;34m(self, endpoint, apiType, params, paginationParams, cursor, direction, instructionsPath)\u001b[0m\n\u001b[1;32m    913\u001b[0m \u001b[39mwhile\u001b[39;00m \u001b[39mTrue\u001b[39;00m:\n\u001b[1;32m    914\u001b[0m \t_logger\u001b[39m.\u001b[39minfo(\u001b[39mf\u001b[39m\u001b[39m'\u001b[39m\u001b[39mRetrieving scroll page \u001b[39m\u001b[39m{\u001b[39;00mcursor\u001b[39m}\u001b[39;00m\u001b[39m'\u001b[39m)\n\u001b[0;32m--> 915\u001b[0m \tobj \u001b[39m=\u001b[39m \u001b[39mself\u001b[39m\u001b[39m.\u001b[39m_get_api_data(endpoint, apiType, reqParams, instructionsPath \u001b[39m=\u001b[39m instructionsPath)\n\u001b[1;32m    916\u001b[0m \t\u001b[39myield\u001b[39;00m obj\n\u001b[1;32m    918\u001b[0m \t\u001b[39m# No data format test, just a hard and loud crash if anything's wrong :-)\u001b[39;00m\n",
      "File \u001b[0;32m~/anaconda3/lib/python3.11/site-packages/snscrape/modules/twitter.py:886\u001b[0m, in \u001b[0;36m_TwitterAPIScraper._get_api_data\u001b[0;34m(self, endpoint, apiType, params, instructionsPath)\u001b[0m\n\u001b[1;32m    884\u001b[0m \u001b[39mif\u001b[39;00m apiType \u001b[39mis\u001b[39;00m _TwitterAPIType\u001b[39m.\u001b[39mGRAPHQL:\n\u001b[1;32m    885\u001b[0m \tparams \u001b[39m=\u001b[39m urllib\u001b[39m.\u001b[39mparse\u001b[39m.\u001b[39murlencode({k: json\u001b[39m.\u001b[39mdumps(v, separators \u001b[39m=\u001b[39m (\u001b[39m'\u001b[39m\u001b[39m,\u001b[39m\u001b[39m'\u001b[39m, \u001b[39m'\u001b[39m\u001b[39m:\u001b[39m\u001b[39m'\u001b[39m)) \u001b[39mfor\u001b[39;00m k, v \u001b[39min\u001b[39;00m params\u001b[39m.\u001b[39mitems()}, quote_via \u001b[39m=\u001b[39m urllib\u001b[39m.\u001b[39mparse\u001b[39m.\u001b[39mquote)\n\u001b[0;32m--> 886\u001b[0m r \u001b[39m=\u001b[39m \u001b[39mself\u001b[39m\u001b[39m.\u001b[39m_get(endpoint, params \u001b[39m=\u001b[39m params, headers \u001b[39m=\u001b[39m \u001b[39mself\u001b[39m\u001b[39m.\u001b[39m_apiHeaders, responseOkCallback \u001b[39m=\u001b[39m functools\u001b[39m.\u001b[39mpartial(\u001b[39mself\u001b[39m\u001b[39m.\u001b[39m_check_api_response, apiType \u001b[39m=\u001b[39m apiType, instructionsPath \u001b[39m=\u001b[39m instructionsPath))\n\u001b[1;32m    887\u001b[0m \u001b[39mreturn\u001b[39;00m r\u001b[39m.\u001b[39m_snscrapeObj\n",
      "File \u001b[0;32m~/anaconda3/lib/python3.11/site-packages/snscrape/base.py:275\u001b[0m, in \u001b[0;36mScraper._get\u001b[0;34m(self, *args, **kwargs)\u001b[0m\n\u001b[1;32m    274\u001b[0m \u001b[39mdef\u001b[39;00m \u001b[39m_get\u001b[39m(\u001b[39mself\u001b[39m, \u001b[39m*\u001b[39margs, \u001b[39m*\u001b[39m\u001b[39m*\u001b[39mkwargs):\n\u001b[0;32m--> 275\u001b[0m \t\u001b[39mreturn\u001b[39;00m \u001b[39mself\u001b[39m\u001b[39m.\u001b[39m_request(\u001b[39m'\u001b[39m\u001b[39mGET\u001b[39m\u001b[39m'\u001b[39m, \u001b[39m*\u001b[39margs, \u001b[39m*\u001b[39m\u001b[39m*\u001b[39mkwargs)\n",
      "File \u001b[0;32m~/anaconda3/lib/python3.11/site-packages/snscrape/base.py:266\u001b[0m, in \u001b[0;36mScraper._request\u001b[0;34m(self, method, url, params, data, headers, timeout, responseOkCallback, allowRedirects, proxies)\u001b[0m\n\u001b[1;32m    264\u001b[0m \t\tsleepTime \u001b[39m=\u001b[39m \u001b[39m1.0\u001b[39m \u001b[39m*\u001b[39m \u001b[39m2\u001b[39m\u001b[39m*\u001b[39m\u001b[39m*\u001b[39mattempt \u001b[39m# exponential backoff: sleep 1 second after first attempt, 2 after second, 4 after third, etc.\u001b[39;00m\n\u001b[1;32m    265\u001b[0m \t\t_logger\u001b[39m.\u001b[39minfo(\u001b[39mf\u001b[39m\u001b[39m'\u001b[39m\u001b[39mWaiting \u001b[39m\u001b[39m{\u001b[39;00msleepTime\u001b[39m:\u001b[39;00m\u001b[39m.0f\u001b[39m\u001b[39m}\u001b[39;00m\u001b[39m seconds\u001b[39m\u001b[39m'\u001b[39m)\n\u001b[0;32m--> 266\u001b[0m \t\ttime\u001b[39m.\u001b[39msleep(sleepTime)\n\u001b[1;32m    267\u001b[0m \u001b[39melse\u001b[39;00m:\n\u001b[1;32m    268\u001b[0m \tmsg \u001b[39m=\u001b[39m \u001b[39mf\u001b[39m\u001b[39m'\u001b[39m\u001b[39m{\u001b[39;00m\u001b[39mself\u001b[39m\u001b[39m.\u001b[39m_retries\u001b[39m \u001b[39m\u001b[39m+\u001b[39m\u001b[39m \u001b[39m\u001b[39m1\u001b[39m\u001b[39m}\u001b[39;00m\u001b[39m requests to \u001b[39m\u001b[39m{\u001b[39;00mreq\u001b[39m.\u001b[39murl\u001b[39m}\u001b[39;00m\u001b[39m failed, giving up.\u001b[39m\u001b[39m'\u001b[39m\n",
      "\u001b[0;31mKeyboardInterrupt\u001b[0m: "
     ]
    }
   ],
   "source": [
    "# Creating list to append tweet data to\n",
    "Tweets_dfsept = []\n",
    "# Using TwitterSearchScraper to scrape data and append tweets\n",
    "for i,tweetsept in enumerate(sntwitter.TwitterSearchScraper('elonmusk since:2022-09-01 until:2022-09-30').get_items()):\n",
    "    if i>100:\n",
    "        break\n",
    "    Tweets_dfsept.append(tweetsept)"
   ]
  },
  {
   "cell_type": "markdown",
   "metadata": {},
   "source": [
    "ALSO BLOCKED"
   ]
  },
  {
   "cell_type": "markdown",
   "metadata": {},
   "source": [
    "OPTION 3: tweeterpy https://github.com/iSarabjitDhiman/TweeterPy"
   ]
  },
  {
   "cell_type": "code",
   "execution_count": null,
   "metadata": {},
   "outputs": [],
   "source": [
    "from tweeterpy import TweeterPy"
   ]
  },
  {
   "cell_type": "code",
   "execution_count": null,
   "metadata": {},
   "outputs": [
    {
     "name": "stdout",
     "output_type": "stream",
     "text": [
      "API Updated Successfully.\n"
     ]
    }
   ],
   "source": [
    "twitter = TweeterPy()"
   ]
  },
  {
   "cell_type": "code",
   "execution_count": null,
   "metadata": {},
   "outputs": [
    {
     "name": "stdout",
     "output_type": "stream",
     "text": [
      "44196397\n"
     ]
    }
   ],
   "source": [
    "print(twitter.get_user_id('elonmusk'))"
   ]
  },
  {
   "cell_type": "code",
   "execution_count": null,
   "metadata": {},
   "outputs": [
    {
     "data": {
      "text/plain": [
       "False"
      ]
     },
     "execution_count": 12,
     "metadata": {},
     "output_type": "execute_result"
    }
   ],
   "source": [
    "twitter.logged_in()"
   ]
  },
  {
   "cell_type": "code",
   "execution_count": null,
   "metadata": {},
   "outputs": [
    {
     "data": {
      "text/plain": [
       "<requests.sessions.Session at 0x1410dfed0>"
      ]
     },
     "execution_count": 19,
     "metadata": {},
     "output_type": "execute_result"
    }
   ],
   "source": [
    "twitter.generate_session(auth_token=None)"
   ]
  },
  {
   "cell_type": "code",
   "execution_count": 65,
   "metadata": {},
   "outputs": [
    {
     "name": "stdout",
     "output_type": "stream",
     "text": [
      "100\r"
     ]
    }
   ],
   "source": [
    "tweet_data = twitter.get_user_tweets(44196397, with_replies=False, end_cursor=None, total=100)"
   ]
  },
  {
   "cell_type": "code",
   "execution_count": 64,
   "metadata": {},
   "outputs": [
    {
     "data": {
      "text/plain": [
       "{'data': [], 'cursor_endpoint': None, 'has_next_page': True}"
      ]
     },
     "execution_count": 64,
     "metadata": {},
     "output_type": "execute_result"
    }
   ],
   "source": [
    "tweet_data"
   ]
  },
  {
   "cell_type": "code",
   "execution_count": 57,
   "metadata": {},
   "outputs": [
    {
     "name": "stdout",
     "output_type": "stream",
     "text": [
      "                 User ID\n",
      "0   VXNlcjo0NDE5NjM5Nw==\n",
      "1   VXNlcjo0NDE5NjM5Nw==\n",
      "2   VXNlcjo0NDE5NjM5Nw==\n",
      "3   VXNlcjo0NDE5NjM5Nw==\n",
      "4   VXNlcjo0NDE5NjM5Nw==\n",
      "..                   ...\n",
      "95  VXNlcjo0NDE5NjM5Nw==\n",
      "96  VXNlcjo0NDE5NjM5Nw==\n",
      "97  VXNlcjo0NDE5NjM5Nw==\n",
      "98  VXNlcjo0NDE5NjM5Nw==\n",
      "99  VXNlcjo0NDE5NjM5Nw==\n",
      "\n",
      "[100 rows x 1 columns]\n"
     ]
    }
   ],
   "source": [
    "tweets = []\n",
    "\n",
    "for entry in tweet_data['data']:\n",
    "    tweet = entry['content']['itemContent']['tweet_results']['result']\n",
    "    user = tweet['core']['user_results']['result']\n",
    "    \n",
    "    tweet_info = {\n",
    "        'User ID': user['id'],\n",
    "        # ... other relevant keys\n",
    "    }\n",
    "    \n",
    "    tweets.append(tweet_info)\n",
    "\n",
    "# Create a DataFrame from the list of tweet information\n",
    "tweets_df = pd.DataFrame(tweets)\n",
    "\n",
    "# Display the DataFrame\n",
    "print(tweets_df)\n",
    "\n",
    "\n",
    "\n",
    "\n",
    "\n"
   ]
  },
  {
   "cell_type": "code",
   "execution_count": 44,
   "metadata": {},
   "outputs": [
    {
     "data": {
      "text/plain": [
       "{'data': {'tweetResult': {'result': {'__typename': 'Tweet',\n",
       "    'rest_id': '1693774806351745125',\n",
       "    'core': {'user_results': {'result': {'__typename': 'User',\n",
       "       'id': 'VXNlcjoxMzI5ODA3Mg==',\n",
       "       'rest_id': '13298072',\n",
       "       'affiliates_highlighted_label': {},\n",
       "       'is_blue_verified': False,\n",
       "       'profile_image_shape': 'Square',\n",
       "       'legacy': {'created_at': 'Sun Feb 10 01:12:32 +0000 2008',\n",
       "        'default_profile': False,\n",
       "        'default_profile_image': False,\n",
       "        'description': 'Electric vehicles, giant batteries & solar',\n",
       "        'entities': {'description': {'urls': []},\n",
       "         'url': {'urls': [{'display_url': 'tesla.com',\n",
       "            'expanded_url': 'https://www.tesla.com',\n",
       "            'url': 'https://t.co/EJC6qVEJnC',\n",
       "            'indices': [0, 23]}]}},\n",
       "        'fast_followers_count': 0,\n",
       "        'favourites_count': 5145,\n",
       "        'followers_count': 20810395,\n",
       "        'friends_count': 45,\n",
       "        'has_custom_timelines': True,\n",
       "        'is_translator': False,\n",
       "        'listed_count': 25246,\n",
       "        'location': '',\n",
       "        'media_count': 1592,\n",
       "        'name': 'Tesla',\n",
       "        'normal_followers_count': 20810395,\n",
       "        'pinned_tweet_ids_str': [],\n",
       "        'possibly_sensitive': False,\n",
       "        'profile_banner_url': 'https://pbs.twimg.com/profile_banners/13298072/1669832572',\n",
       "        'profile_image_url_https': 'https://pbs.twimg.com/profile_images/1337607516008501250/6Ggc4S5n_normal.png',\n",
       "        'profile_interstitial_type': '',\n",
       "        'screen_name': 'Tesla',\n",
       "        'statuses_count': 8230,\n",
       "        'translator_type': 'none',\n",
       "        'url': 'https://t.co/EJC6qVEJnC',\n",
       "        'verified': False,\n",
       "        'verified_type': 'Business',\n",
       "        'withheld_in_countries': []},\n",
       "       'professional': {'rest_id': '1590468365159636997',\n",
       "        'professional_type': 'Business',\n",
       "        'category': []}}}},\n",
       "    'edit_control': {'edit_tweet_ids': ['1693774806351745125'],\n",
       "     'editable_until_msecs': '1692665957000',\n",
       "     'is_edit_eligible': True,\n",
       "     'edits_remaining': '5'},\n",
       "    'is_translatable': False,\n",
       "    'views': {'count': '1283017', 'state': 'EnabledWithCount'},\n",
       "    'source': '<a href=\"http://twitter.com/download/iphone\" rel=\"nofollow\">Twitter for iPhone</a>',\n",
       "    'quoted_status_result': {'result': {'__typename': 'Tweet',\n",
       "      'rest_id': '1567912379505340419',\n",
       "      'core': {'user_results': {'result': {'__typename': 'User',\n",
       "         'id': 'VXNlcjoxMjE5MDg4MTU=',\n",
       "         'rest_id': '121908815',\n",
       "         'affiliates_highlighted_label': {},\n",
       "         'is_blue_verified': True,\n",
       "         'profile_image_shape': 'Circle',\n",
       "         'legacy': {'created_at': 'Thu Mar 11 00:37:36 +0000 2010',\n",
       "          'default_profile': True,\n",
       "          'default_profile_image': False,\n",
       "          'description': 'Computer nerd, pinball machine fan ( https://t.co/QSipSCdD3y), multiple Teslas (2 FSDBeta), Rivian R1T, Solar, Powerwalls. Husband great wife! Liberal!!!',\n",
       "          'entities': {'description': {'urls': [{'display_url': 'pblq.com/arcade.html',\n",
       "              'expanded_url': 'http://pblq.com/arcade.html',\n",
       "              'url': 'https://t.co/QSipSCdD3y',\n",
       "              'indices': [37, 60]}]}},\n",
       "          'fast_followers_count': 0,\n",
       "          'favourites_count': 9614,\n",
       "          'followers_count': 1514,\n",
       "          'friends_count': 2033,\n",
       "          'has_custom_timelines': True,\n",
       "          'is_translator': False,\n",
       "          'listed_count': 11,\n",
       "          'location': 'New England, USA',\n",
       "          'media_count': 620,\n",
       "          'name': 'Reed-Pinball is fun.',\n",
       "          'normal_followers_count': 1514,\n",
       "          'pinned_tweet_ids_str': [],\n",
       "          'possibly_sensitive': False,\n",
       "          'profile_banner_url': 'https://pbs.twimg.com/profile_banners/121908815/1637593951',\n",
       "          'profile_image_url_https': 'https://pbs.twimg.com/profile_images/1462801169349234692/esID8kCa_normal.jpg',\n",
       "          'profile_interstitial_type': '',\n",
       "          'screen_name': 'PinballReed',\n",
       "          'statuses_count': 25135,\n",
       "          'translator_type': 'none',\n",
       "          'verified': False,\n",
       "          'withheld_in_countries': []}}}},\n",
       "      'edit_control': {'edit_tweet_ids': ['1567912379505340419'],\n",
       "       'editable_until_msecs': '1662656216000',\n",
       "       'is_edit_eligible': False,\n",
       "       'edits_remaining': '5'},\n",
       "      'is_translatable': False,\n",
       "      'views': {'state': 'Enabled'},\n",
       "      'source': '<a href=\"http://twitter.com/download/iphone\" rel=\"nofollow\">Twitter for iPhone</a>',\n",
       "      'legacy': {'bookmark_count': 6,\n",
       "       'bookmarked': False,\n",
       "       'created_at': 'Thu Sep 08 16:26:56 +0000 2022',\n",
       "       'conversation_id_str': '1567912379505340419',\n",
       "       'display_text_range': [0, 174],\n",
       "       'entities': {'media': [{'display_url': 'pic.twitter.com/5QRuMLMy3d',\n",
       "          'expanded_url': 'https://twitter.com/PinballReed/status/1567912379505340419/photo/1',\n",
       "          'id_str': '1567912376455790592',\n",
       "          'indices': [175, 198],\n",
       "          'media_url_https': 'https://pbs.twimg.com/media/FcJX_82WAAAZd5E.jpg',\n",
       "          'type': 'photo',\n",
       "          'url': 'https://t.co/5QRuMLMy3d',\n",
       "          'features': {'large': {'faces': []},\n",
       "           'medium': {'faces': []},\n",
       "           'small': {'faces': []},\n",
       "           'orig': {'faces': []}},\n",
       "          'sizes': {'large': {'h': 2048, 'w': 947, 'resize': 'fit'},\n",
       "           'medium': {'h': 1200, 'w': 555, 'resize': 'fit'},\n",
       "           'small': {'h': 680, 'w': 314, 'resize': 'fit'},\n",
       "           'thumb': {'h': 150, 'w': 150, 'resize': 'crop'}},\n",
       "          'original_info': {'height': 2048,\n",
       "           'width': 947,\n",
       "           'focus_rects': [{'x': 0, 'y': 1321, 'w': 947, 'h': 530},\n",
       "            {'x': 0, 'y': 1101, 'w': 947, 'h': 947},\n",
       "            {'x': 0, 'y': 968, 'w': 947, 'h': 1080},\n",
       "            {'x': 0, 'y': 154, 'w': 947, 'h': 1894},\n",
       "            {'x': 0, 'y': 0, 'w': 947, 'h': 2048}]}}],\n",
       "        'user_mentions': [{'id_str': '13298072',\n",
       "          'name': 'Tesla',\n",
       "          'screen_name': 'Tesla',\n",
       "          'indices': [168, 174]}],\n",
       "        'urls': [],\n",
       "        'hashtags': [],\n",
       "        'symbols': []},\n",
       "       'extended_entities': {'media': [{'display_url': 'pic.twitter.com/5QRuMLMy3d',\n",
       "          'expanded_url': 'https://twitter.com/PinballReed/status/1567912379505340419/photo/1',\n",
       "          'id_str': '1567912376455790592',\n",
       "          'indices': [175, 198],\n",
       "          'media_key': '3_1567912376455790592',\n",
       "          'media_url_https': 'https://pbs.twimg.com/media/FcJX_82WAAAZd5E.jpg',\n",
       "          'type': 'photo',\n",
       "          'url': 'https://t.co/5QRuMLMy3d',\n",
       "          'ext_media_availability': {'status': 'Available'},\n",
       "          'features': {'large': {'faces': []},\n",
       "           'medium': {'faces': []},\n",
       "           'small': {'faces': []},\n",
       "           'orig': {'faces': []}},\n",
       "          'sizes': {'large': {'h': 2048, 'w': 947, 'resize': 'fit'},\n",
       "           'medium': {'h': 1200, 'w': 555, 'resize': 'fit'},\n",
       "           'small': {'h': 680, 'w': 314, 'resize': 'fit'},\n",
       "           'thumb': {'h': 150, 'w': 150, 'resize': 'crop'}},\n",
       "          'original_info': {'height': 2048,\n",
       "           'width': 947,\n",
       "           'focus_rects': [{'x': 0, 'y': 1321, 'w': 947, 'h': 530},\n",
       "            {'x': 0, 'y': 1101, 'w': 947, 'h': 947},\n",
       "            {'x': 0, 'y': 968, 'w': 947, 'h': 1080},\n",
       "            {'x': 0, 'y': 154, 'w': 947, 'h': 1894},\n",
       "            {'x': 0, 'y': 0, 'w': 947, 'h': 2048}]}}]},\n",
       "       'favorite_count': 296,\n",
       "       'favorited': False,\n",
       "       'full_text': 'This is amazing.  My car is in for service and I got a loaner.  It appeared on my account in the app and I can see where it is, how much the charge is, etc!\\n\\nThank you @tesla https://t.co/5QRuMLMy3d',\n",
       "       'is_quote_status': False,\n",
       "       'lang': 'en',\n",
       "       'possibly_sensitive': False,\n",
       "       'possibly_sensitive_editable': True,\n",
       "       'quote_count': 7,\n",
       "       'reply_count': 35,\n",
       "       'retweet_count': 24,\n",
       "       'retweeted': False,\n",
       "       'user_id_str': '121908815',\n",
       "       'id_str': '1567912379505340419'}}},\n",
       "    'legacy': {'bookmark_count': 48,\n",
       "     'bookmarked': False,\n",
       "     'created_at': 'Mon Aug 21 23:59:17 +0000 2023',\n",
       "     'conversation_id_str': '1693774806351745125',\n",
       "     'display_text_range': [0, 110],\n",
       "     'entities': {'user_mentions': [],\n",
       "      'urls': [],\n",
       "      'hashtags': [],\n",
       "      'symbols': []},\n",
       "     'favorite_count': 6005,\n",
       "     'favorited': False,\n",
       "     'full_text': 'If your car requires service and you receive a loaner vehicle, it will automatically show up in your Tesla app',\n",
       "     'is_quote_status': True,\n",
       "     'lang': 'en',\n",
       "     'quote_count': 64,\n",
       "     'quoted_status_id_str': '1567912379505340419',\n",
       "     'quoted_status_permalink': {'url': 'https://t.co/SKRA4bmb4m',\n",
       "      'expanded': 'https://twitter.com/pinballreed/status/1567912379505340419',\n",
       "      'display': 'twitter.com/pinballreed/st…'},\n",
       "     'reply_count': 466,\n",
       "     'retweet_count': 1088,\n",
       "     'retweeted': False,\n",
       "     'user_id_str': '13298072',\n",
       "     'id_str': '1693774806351745125'}}}}}"
      ]
     },
     "execution_count": 44,
     "metadata": {},
     "output_type": "execute_result"
    }
   ],
   "source": [
    "twitter.get_tweet(1693774806351745125, with_tweet_replies=False, end_cursor=None, total=None)"
   ]
  },
  {
   "cell_type": "markdown",
   "metadata": {},
   "source": [
    "# OPTION 2: USING ONLY 1.500 TWEETS WITH THE TWITTER API #MUSKWINS"
   ]
  },
  {
   "cell_type": "markdown",
   "metadata": {},
   "source": [
    "https://github.com/twitterdev"
   ]
  },
  {
   "cell_type": "markdown",
   "metadata": {},
   "source": [
    "#https://www.youtube.com/watch?v=MF1XpFUIUMk&ab_channel=sumitkumar tutorial\n",
    "#https://gist.github.com/yanofsky/5436496 github code"
   ]
  },
  {
   "cell_type": "markdown",
   "metadata": {},
   "source": [
    "Checking how the tutorials work"
   ]
  },
  {
   "cell_type": "code",
   "execution_count": null,
   "metadata": {},
   "outputs": [],
   "source": [
    "#install tweepy\n",
    "#https://www.google.com/search?q=set+up+tweepy+python&oq=set+up+tweepy+python&aqs=chrome..69i57j33i160l3.5499j1j4&sourceid=chrome&ie=UTF-8#kpvalbx=_Wl_sZJ6cNoeZkdUPjrauiAk_39\n",
    "#!pip install tweepy\n",
    "#https://developer.twitter.com/en/docs/twitter-api/tweets/manage-tweets/introduction\n",
    "\n"
   ]
  },
  {
   "cell_type": "code",
   "execution_count": 2,
   "metadata": {},
   "outputs": [],
   "source": [
    "\n",
    "import tweepy\n",
    "import pandas as pd\n"
   ]
  },
  {
   "cell_type": "markdown",
   "metadata": {},
   "source": [
    "# GIVING UP --> TWITTER DATA COSTS TOO MUCH, GOING TO USE PREVIOUS CSV"
   ]
  }
 ],
 "metadata": {
  "kernelspec": {
   "display_name": "Python 3 (ipykernel)",
   "language": "python",
   "name": "python3"
  },
  "language_info": {
   "codemirror_mode": {
    "name": "ipython",
    "version": 3
   },
   "file_extension": ".py",
   "mimetype": "text/x-python",
   "name": "python",
   "nbconvert_exporter": "python",
   "pygments_lexer": "ipython3",
   "version": "3.11.4"
  },
  "orig_nbformat": 4
 },
 "nbformat": 4,
 "nbformat_minor": 2
}
